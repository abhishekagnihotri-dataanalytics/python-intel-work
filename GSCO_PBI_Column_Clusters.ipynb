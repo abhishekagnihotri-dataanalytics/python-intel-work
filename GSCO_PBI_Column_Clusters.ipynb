{
 "cells": [
  {
   "cell_type": "code",
   "execution_count": 2,
   "metadata": {},
   "outputs": [],
   "source": [
    "# J. Strong 10/25/2019\n",
    "# This Python script identifies similar \"clusters\" of PBI reports using the column names in each file"
   ]
  },
  {
   "cell_type": "code",
   "execution_count": 3,
   "metadata": {},
   "outputs": [],
   "source": [
    "import pandas as pd\n",
    "import pyodbc\n",
    "from sklearn.cluster import KMeans\n",
    "\n",
    "from datetime import datetime"
   ]
  },
  {
   "cell_type": "code",
   "execution_count": 4,
   "metadata": {},
   "outputs": [],
   "source": [
    "# Import column name data from SQL Server database\n",
    "sql_conn = pyodbc.connect('DRIVER={SQL Server};\\\n",
    "                            SERVER=sql2377-fm1-in.amr.corp.intel.com,3180;\\\n",
    "                            DATABASE=SCDA;\\\n",
    "                            Trusted_Connection=yes;\\\n",
    "                            integrated security=true')\n",
    "\n",
    "query= \"\"\"SELECT DISTINCT ReportServerType, ReportEnvironment as [Server],FilePath,ColumnName FROM [SCDA].[Audit].[PowerBIColumn]\n",
    "where TableName NOT LIKE '%LocalDateTable%' AND TableName NOT LIKE '%DateTableTemplate%'\"\"\"\n",
    "df = pd.read_sql(query, sql_conn)\n",
    "sql_conn.close()"
   ]
  },
  {
   "cell_type": "code",
   "execution_count": 5,
   "metadata": {},
   "outputs": [
    {
     "name": "stderr",
     "output_type": "stream",
     "text": [
      "C:\\ProgramData\\Anaconda3\\lib\\site-packages\\fuzzywuzzy\\fuzz.py:11: UserWarning: Using slow pure-python SequenceMatcher. Install python-Levenshtein to remove this warning\n",
      "  warnings.warn('Using slow pure-python SequenceMatcher. Install python-Levenshtein to remove this warning')\n"
     ]
    },
    {
     "name": "stdout",
     "output_type": "stream",
     "text": [
      "1000000/40865320 0.024470626927673635\n",
      "2000000/40865320 0.04894125385534727\n",
      "3000000/40865320 0.07341188078302091\n",
      "4000000/40865320 0.09788250771069454\n"
     ]
    },
    {
     "ename": "KeyboardInterrupt",
     "evalue": "",
     "output_type": "error",
     "traceback": [
      "\u001b[1;31m---------------------------------------------------------------------------\u001b[0m",
      "\u001b[1;31mKeyboardInterrupt\u001b[0m                         Traceback (most recent call last)",
      "\u001b[1;32m<ipython-input-5-8f1444beeee5>\u001b[0m in \u001b[0;36m<module>\u001b[1;34m\u001b[0m\n\u001b[0;32m     22\u001b[0m     \u001b[1;31m#print(element,fuzz.ratio(element[0],element[1]))\u001b[0m\u001b[1;33m\u001b[0m\u001b[1;33m\u001b[0m\u001b[1;33m\u001b[0m\u001b[0m\n\u001b[0;32m     23\u001b[0m     \u001b[0mtempList\u001b[0m\u001b[1;33m.\u001b[0m\u001b[0mappend\u001b[0m\u001b[1;33m(\u001b[0m\u001b[0melement\u001b[0m\u001b[1;33m)\u001b[0m\u001b[1;33m\u001b[0m\u001b[1;33m\u001b[0m\u001b[0m\n\u001b[1;32m---> 24\u001b[1;33m     \u001b[0mratio\u001b[0m \u001b[1;33m=\u001b[0m \u001b[0mfuzz\u001b[0m\u001b[1;33m.\u001b[0m\u001b[0mratio\u001b[0m\u001b[1;33m(\u001b[0m\u001b[0melement\u001b[0m\u001b[1;33m[\u001b[0m\u001b[1;36m0\u001b[0m\u001b[1;33m]\u001b[0m\u001b[1;33m,\u001b[0m\u001b[0melement\u001b[0m\u001b[1;33m[\u001b[0m\u001b[1;36m1\u001b[0m\u001b[1;33m]\u001b[0m\u001b[1;33m)\u001b[0m\u001b[1;33m\u001b[0m\u001b[1;33m\u001b[0m\u001b[0m\n\u001b[0m\u001b[0;32m     25\u001b[0m     \u001b[0mtempList\u001b[0m\u001b[1;33m.\u001b[0m\u001b[0mappend\u001b[0m\u001b[1;33m(\u001b[0m\u001b[0mratio\u001b[0m\u001b[1;33m)\u001b[0m\u001b[1;33m\u001b[0m\u001b[1;33m\u001b[0m\u001b[0m\n\u001b[0;32m     26\u001b[0m     \u001b[1;32mif\u001b[0m \u001b[0mratio\u001b[0m \u001b[1;33m>=\u001b[0m \u001b[1;36m90\u001b[0m\u001b[1;33m:\u001b[0m\u001b[1;33m\u001b[0m\u001b[1;33m\u001b[0m\u001b[0m\n",
      "\u001b[1;32mC:\\ProgramData\\Anaconda3\\lib\\site-packages\\fuzzywuzzy\\utils.py\u001b[0m in \u001b[0;36mdecorator\u001b[1;34m(*args, **kwargs)\u001b[0m\n\u001b[0;32m     36\u001b[0m         \u001b[1;32mif\u001b[0m \u001b[0margs\u001b[0m\u001b[1;33m[\u001b[0m\u001b[1;36m0\u001b[0m\u001b[1;33m]\u001b[0m \u001b[1;32mis\u001b[0m \u001b[1;32mNone\u001b[0m \u001b[1;32mor\u001b[0m \u001b[0margs\u001b[0m\u001b[1;33m[\u001b[0m\u001b[1;36m1\u001b[0m\u001b[1;33m]\u001b[0m \u001b[1;32mis\u001b[0m \u001b[1;32mNone\u001b[0m\u001b[1;33m:\u001b[0m\u001b[1;33m\u001b[0m\u001b[1;33m\u001b[0m\u001b[0m\n\u001b[0;32m     37\u001b[0m             \u001b[1;32mreturn\u001b[0m \u001b[1;36m0\u001b[0m\u001b[1;33m\u001b[0m\u001b[1;33m\u001b[0m\u001b[0m\n\u001b[1;32m---> 38\u001b[1;33m         \u001b[1;32mreturn\u001b[0m \u001b[0mfunc\u001b[0m\u001b[1;33m(\u001b[0m\u001b[1;33m*\u001b[0m\u001b[0margs\u001b[0m\u001b[1;33m,\u001b[0m \u001b[1;33m**\u001b[0m\u001b[0mkwargs\u001b[0m\u001b[1;33m)\u001b[0m\u001b[1;33m\u001b[0m\u001b[1;33m\u001b[0m\u001b[0m\n\u001b[0m\u001b[0;32m     39\u001b[0m     \u001b[1;32mreturn\u001b[0m \u001b[0mdecorator\u001b[0m\u001b[1;33m\u001b[0m\u001b[1;33m\u001b[0m\u001b[0m\n\u001b[0;32m     40\u001b[0m \u001b[1;33m\u001b[0m\u001b[0m\n",
      "\u001b[1;32mC:\\ProgramData\\Anaconda3\\lib\\site-packages\\fuzzywuzzy\\utils.py\u001b[0m in \u001b[0;36mdecorator\u001b[1;34m(*args, **kwargs)\u001b[0m\n\u001b[0;32m     27\u001b[0m         \u001b[1;32mif\u001b[0m \u001b[0margs\u001b[0m\u001b[1;33m[\u001b[0m\u001b[1;36m0\u001b[0m\u001b[1;33m]\u001b[0m \u001b[1;33m==\u001b[0m \u001b[0margs\u001b[0m\u001b[1;33m[\u001b[0m\u001b[1;36m1\u001b[0m\u001b[1;33m]\u001b[0m\u001b[1;33m:\u001b[0m\u001b[1;33m\u001b[0m\u001b[1;33m\u001b[0m\u001b[0m\n\u001b[0;32m     28\u001b[0m             \u001b[1;32mreturn\u001b[0m \u001b[1;36m100\u001b[0m\u001b[1;33m\u001b[0m\u001b[1;33m\u001b[0m\u001b[0m\n\u001b[1;32m---> 29\u001b[1;33m         \u001b[1;32mreturn\u001b[0m \u001b[0mfunc\u001b[0m\u001b[1;33m(\u001b[0m\u001b[1;33m*\u001b[0m\u001b[0margs\u001b[0m\u001b[1;33m,\u001b[0m \u001b[1;33m**\u001b[0m\u001b[0mkwargs\u001b[0m\u001b[1;33m)\u001b[0m\u001b[1;33m\u001b[0m\u001b[1;33m\u001b[0m\u001b[0m\n\u001b[0m\u001b[0;32m     30\u001b[0m     \u001b[1;32mreturn\u001b[0m \u001b[0mdecorator\u001b[0m\u001b[1;33m\u001b[0m\u001b[1;33m\u001b[0m\u001b[0m\n\u001b[0;32m     31\u001b[0m \u001b[1;33m\u001b[0m\u001b[0m\n",
      "\u001b[1;32mC:\\ProgramData\\Anaconda3\\lib\\site-packages\\fuzzywuzzy\\utils.py\u001b[0m in \u001b[0;36mdecorator\u001b[1;34m(*args, **kwargs)\u001b[0m\n\u001b[0;32m     45\u001b[0m         \u001b[1;32mif\u001b[0m \u001b[0mlen\u001b[0m\u001b[1;33m(\u001b[0m\u001b[0margs\u001b[0m\u001b[1;33m[\u001b[0m\u001b[1;36m0\u001b[0m\u001b[1;33m]\u001b[0m\u001b[1;33m)\u001b[0m \u001b[1;33m==\u001b[0m \u001b[1;36m0\u001b[0m \u001b[1;32mor\u001b[0m \u001b[0mlen\u001b[0m\u001b[1;33m(\u001b[0m\u001b[0margs\u001b[0m\u001b[1;33m[\u001b[0m\u001b[1;36m1\u001b[0m\u001b[1;33m]\u001b[0m\u001b[1;33m)\u001b[0m \u001b[1;33m==\u001b[0m \u001b[1;36m0\u001b[0m\u001b[1;33m:\u001b[0m\u001b[1;33m\u001b[0m\u001b[1;33m\u001b[0m\u001b[0m\n\u001b[0;32m     46\u001b[0m             \u001b[1;32mreturn\u001b[0m \u001b[1;36m0\u001b[0m\u001b[1;33m\u001b[0m\u001b[1;33m\u001b[0m\u001b[0m\n\u001b[1;32m---> 47\u001b[1;33m         \u001b[1;32mreturn\u001b[0m \u001b[0mfunc\u001b[0m\u001b[1;33m(\u001b[0m\u001b[1;33m*\u001b[0m\u001b[0margs\u001b[0m\u001b[1;33m,\u001b[0m \u001b[1;33m**\u001b[0m\u001b[0mkwargs\u001b[0m\u001b[1;33m)\u001b[0m\u001b[1;33m\u001b[0m\u001b[1;33m\u001b[0m\u001b[0m\n\u001b[0m\u001b[0;32m     48\u001b[0m     \u001b[1;32mreturn\u001b[0m \u001b[0mdecorator\u001b[0m\u001b[1;33m\u001b[0m\u001b[1;33m\u001b[0m\u001b[0m\n\u001b[0;32m     49\u001b[0m \u001b[1;33m\u001b[0m\u001b[0m\n",
      "\u001b[1;32mC:\\ProgramData\\Anaconda3\\lib\\site-packages\\fuzzywuzzy\\fuzz.py\u001b[0m in \u001b[0;36mratio\u001b[1;34m(s1, s2)\u001b[0m\n\u001b[0;32m     26\u001b[0m \u001b[1;33m\u001b[0m\u001b[0m\n\u001b[0;32m     27\u001b[0m     \u001b[0mm\u001b[0m \u001b[1;33m=\u001b[0m \u001b[0mSequenceMatcher\u001b[0m\u001b[1;33m(\u001b[0m\u001b[1;32mNone\u001b[0m\u001b[1;33m,\u001b[0m \u001b[0ms1\u001b[0m\u001b[1;33m,\u001b[0m \u001b[0ms2\u001b[0m\u001b[1;33m)\u001b[0m\u001b[1;33m\u001b[0m\u001b[1;33m\u001b[0m\u001b[0m\n\u001b[1;32m---> 28\u001b[1;33m     \u001b[1;32mreturn\u001b[0m \u001b[0mutils\u001b[0m\u001b[1;33m.\u001b[0m\u001b[0mintr\u001b[0m\u001b[1;33m(\u001b[0m\u001b[1;36m100\u001b[0m \u001b[1;33m*\u001b[0m \u001b[0mm\u001b[0m\u001b[1;33m.\u001b[0m\u001b[0mratio\u001b[0m\u001b[1;33m(\u001b[0m\u001b[1;33m)\u001b[0m\u001b[1;33m)\u001b[0m\u001b[1;33m\u001b[0m\u001b[1;33m\u001b[0m\u001b[0m\n\u001b[0m\u001b[0;32m     29\u001b[0m \u001b[1;33m\u001b[0m\u001b[0m\n\u001b[0;32m     30\u001b[0m \u001b[1;33m\u001b[0m\u001b[0m\n",
      "\u001b[1;32mC:\\ProgramData\\Anaconda3\\lib\\difflib.py\u001b[0m in \u001b[0;36mratio\u001b[1;34m(self)\u001b[0m\n\u001b[0;32m    642\u001b[0m         \"\"\"\n\u001b[0;32m    643\u001b[0m \u001b[1;33m\u001b[0m\u001b[0m\n\u001b[1;32m--> 644\u001b[1;33m         \u001b[0mmatches\u001b[0m \u001b[1;33m=\u001b[0m \u001b[0msum\u001b[0m\u001b[1;33m(\u001b[0m\u001b[0mtriple\u001b[0m\u001b[1;33m[\u001b[0m\u001b[1;33m-\u001b[0m\u001b[1;36m1\u001b[0m\u001b[1;33m]\u001b[0m \u001b[1;32mfor\u001b[0m \u001b[0mtriple\u001b[0m \u001b[1;32min\u001b[0m \u001b[0mself\u001b[0m\u001b[1;33m.\u001b[0m\u001b[0mget_matching_blocks\u001b[0m\u001b[1;33m(\u001b[0m\u001b[1;33m)\u001b[0m\u001b[1;33m)\u001b[0m\u001b[1;33m\u001b[0m\u001b[1;33m\u001b[0m\u001b[0m\n\u001b[0m\u001b[0;32m    645\u001b[0m         \u001b[1;32mreturn\u001b[0m \u001b[0m_calculate_ratio\u001b[0m\u001b[1;33m(\u001b[0m\u001b[0mmatches\u001b[0m\u001b[1;33m,\u001b[0m \u001b[0mlen\u001b[0m\u001b[1;33m(\u001b[0m\u001b[0mself\u001b[0m\u001b[1;33m.\u001b[0m\u001b[0ma\u001b[0m\u001b[1;33m)\u001b[0m \u001b[1;33m+\u001b[0m \u001b[0mlen\u001b[0m\u001b[1;33m(\u001b[0m\u001b[0mself\u001b[0m\u001b[1;33m.\u001b[0m\u001b[0mb\u001b[0m\u001b[1;33m)\u001b[0m\u001b[1;33m)\u001b[0m\u001b[1;33m\u001b[0m\u001b[1;33m\u001b[0m\u001b[0m\n\u001b[0;32m    646\u001b[0m \u001b[1;33m\u001b[0m\u001b[0m\n",
      "\u001b[1;32mC:\\ProgramData\\Anaconda3\\lib\\difflib.py\u001b[0m in \u001b[0;36mget_matching_blocks\u001b[1;34m(self)\u001b[0m\n\u001b[0;32m    477\u001b[0m         \u001b[1;32mwhile\u001b[0m \u001b[0mqueue\u001b[0m\u001b[1;33m:\u001b[0m\u001b[1;33m\u001b[0m\u001b[1;33m\u001b[0m\u001b[0m\n\u001b[0;32m    478\u001b[0m             \u001b[0malo\u001b[0m\u001b[1;33m,\u001b[0m \u001b[0mahi\u001b[0m\u001b[1;33m,\u001b[0m \u001b[0mblo\u001b[0m\u001b[1;33m,\u001b[0m \u001b[0mbhi\u001b[0m \u001b[1;33m=\u001b[0m \u001b[0mqueue\u001b[0m\u001b[1;33m.\u001b[0m\u001b[0mpop\u001b[0m\u001b[1;33m(\u001b[0m\u001b[1;33m)\u001b[0m\u001b[1;33m\u001b[0m\u001b[1;33m\u001b[0m\u001b[0m\n\u001b[1;32m--> 479\u001b[1;33m             \u001b[0mi\u001b[0m\u001b[1;33m,\u001b[0m \u001b[0mj\u001b[0m\u001b[1;33m,\u001b[0m \u001b[0mk\u001b[0m \u001b[1;33m=\u001b[0m \u001b[0mx\u001b[0m \u001b[1;33m=\u001b[0m \u001b[0mself\u001b[0m\u001b[1;33m.\u001b[0m\u001b[0mfind_longest_match\u001b[0m\u001b[1;33m(\u001b[0m\u001b[0malo\u001b[0m\u001b[1;33m,\u001b[0m \u001b[0mahi\u001b[0m\u001b[1;33m,\u001b[0m \u001b[0mblo\u001b[0m\u001b[1;33m,\u001b[0m \u001b[0mbhi\u001b[0m\u001b[1;33m)\u001b[0m\u001b[1;33m\u001b[0m\u001b[1;33m\u001b[0m\u001b[0m\n\u001b[0m\u001b[0;32m    480\u001b[0m             \u001b[1;31m# a[alo:i] vs b[blo:j] unknown\u001b[0m\u001b[1;33m\u001b[0m\u001b[1;33m\u001b[0m\u001b[1;33m\u001b[0m\u001b[0m\n\u001b[0;32m    481\u001b[0m             \u001b[1;31m# a[i:i+k] same as b[j:j+k]\u001b[0m\u001b[1;33m\u001b[0m\u001b[1;33m\u001b[0m\u001b[1;33m\u001b[0m\u001b[0m\n",
      "\u001b[1;32mC:\\ProgramData\\Anaconda3\\lib\\difflib.py\u001b[0m in \u001b[0;36mfind_longest_match\u001b[1;34m(self, alo, ahi, blo, bhi)\u001b[0m\n\u001b[0;32m    424\u001b[0m               \u001b[1;32mnot\u001b[0m \u001b[0misbjunk\u001b[0m\u001b[1;33m(\u001b[0m\u001b[0mb\u001b[0m\u001b[1;33m[\u001b[0m\u001b[0mbestj\u001b[0m\u001b[1;33m+\u001b[0m\u001b[0mbestsize\u001b[0m\u001b[1;33m]\u001b[0m\u001b[1;33m)\u001b[0m \u001b[1;32mand\u001b[0m\u001b[0;31m \u001b[0m\u001b[0;31m\\\u001b[0m\u001b[1;33m\u001b[0m\u001b[1;33m\u001b[0m\u001b[0m\n\u001b[0;32m    425\u001b[0m               \u001b[0ma\u001b[0m\u001b[1;33m[\u001b[0m\u001b[0mbesti\u001b[0m\u001b[1;33m+\u001b[0m\u001b[0mbestsize\u001b[0m\u001b[1;33m]\u001b[0m \u001b[1;33m==\u001b[0m \u001b[0mb\u001b[0m\u001b[1;33m[\u001b[0m\u001b[0mbestj\u001b[0m\u001b[1;33m+\u001b[0m\u001b[0mbestsize\u001b[0m\u001b[1;33m]\u001b[0m\u001b[1;33m:\u001b[0m\u001b[1;33m\u001b[0m\u001b[1;33m\u001b[0m\u001b[0m\n\u001b[1;32m--> 426\u001b[1;33m             \u001b[0mbestsize\u001b[0m \u001b[1;33m+=\u001b[0m \u001b[1;36m1\u001b[0m\u001b[1;33m\u001b[0m\u001b[1;33m\u001b[0m\u001b[0m\n\u001b[0m\u001b[0;32m    427\u001b[0m \u001b[1;33m\u001b[0m\u001b[0m\n\u001b[0;32m    428\u001b[0m         \u001b[1;31m# Now that we have a wholly interesting match (albeit possibly\u001b[0m\u001b[1;33m\u001b[0m\u001b[1;33m\u001b[0m\u001b[1;33m\u001b[0m\u001b[0m\n",
      "\u001b[1;31mKeyboardInterrupt\u001b[0m: "
     ]
    }
   ],
   "source": [
    "# Use fuzzy word match to determine which column names are nearly the same for all column combinations. The fuzzy match\n",
    "# can be modified to a higher or lower ratio to control the threshold for \"similar\" words.\n",
    "\n",
    "from fuzzywuzzy import fuzz\n",
    "import itertools\n",
    "\n",
    "listofsimilar = []\n",
    "\n",
    "A = df['ColumnName'].str.strip().tolist()\n",
    "# remove duplicates in list\n",
    "A = list(dict.fromkeys(A))\n",
    "\n",
    "# get all combinations of column pairs to be used in fuzzy match comparison\n",
    "cnt = 0\n",
    "runningCnt = 0\n",
    "myIterable = itertools.combinations(A, r=2)\n",
    "totalCnt = sum(1 for _ in myIterable)\n",
    "\n",
    "# Run fuzzy logic against all combinations of column names\n",
    "for element in itertools.combinations(A, r=2):\n",
    "    tempList = []\n",
    "    #print(element,fuzz.ratio(element[0],element[1]))\n",
    "    tempList.append(element)\n",
    "    ratio = fuzz.ratio(element[0],element[1])\n",
    "    tempList.append(ratio)\n",
    "    if ratio >= 90:\n",
    "        listofsimilar.append(tempList)\n",
    "    cnt+=1\n",
    "    if (cnt == 1000000):\n",
    "        runningCnt += cnt\n",
    "        print (str(runningCnt) + '/' + str(totalCnt) + ' ' + str(runningCnt/totalCnt))\n",
    "        cnt = 0"
   ]
  },
  {
   "cell_type": "code",
   "execution_count": 6,
   "metadata": {},
   "outputs": [],
   "source": [
    "similarColumnsdf = pd.DataFrame(listofsimilar, columns =['Columns','Ratio'])\n",
    "similarColumnsdf = similarColumnsdf.Columns.apply(pd.Series) \\\n",
    "    .merge(similarColumnsdf, left_index = True, right_index = True) \\\n",
    "    .drop(['Columns'], axis = 1)\n",
    "similarColumnsdf.columns = ['Column1', 'Column2','Ratio']\n",
    "similarColumnsdf\n",
    "#similarColumnsdf.to_csv(r'C:\\Users\\jrstrong\\Desktop\\temp\\SimilarColumns.csv', index=False)\n",
    "listofsimilar = list(zip(similarColumnsdf.Column1.tolist(),similarColumnsdf.Column2.tolist()))\n",
    "\n",
    "\n",
    "# Merge all common column names into single list\n",
    "# https://stackoverflow.com/questions/4842613/merge-lists-that-share-common-elements\n",
    "\n",
    "LL = set(itertools.chain.from_iterable(listofsimilar)) \n",
    "# LL is {'a', 'b', 'c', 'd', 'e', 'f', 'g', 'k', 'o', 'p'}\n",
    "\n",
    "for each in LL:\n",
    "  components = [x for x in listofsimilar if each in x]\n",
    "  for i in components:\n",
    "    listofsimilar.remove(i)\n",
    "  listofsimilar += [list(set(itertools.chain.from_iterable(components)))]"
   ]
  },
  {
   "cell_type": "code",
   "execution_count": 7,
   "metadata": {},
   "outputs": [],
   "source": [
    "# Join list of similar columns to original dataframe\n",
    "\n",
    "def addColumnKey(a):\n",
    "    for lst in listofsimilar:\n",
    "        for word in lst:\n",
    "            if word == a.strip():\n",
    "                return sorted(lst)\n",
    "\n",
    "#%timeit df['ColumnKey'] = df.ColumnName.apply(addColumnKey)\n",
    "df['ColumnKey_tmp'] = df.ColumnName.apply(addColumnKey)\n",
    "\n",
    "def updateColumnKey (a,b):\n",
    "    if b is None:\n",
    "        return a.strip()\n",
    "    else:\n",
    "        return ','.join(b)\n",
    "        \n",
    "df['ColumnKey'] = df.apply(lambda x: updateColumnKey(x['ColumnName'], x['ColumnKey_tmp']), axis=1)\n",
    "df = df.drop(\"ColumnKey_tmp\", axis=1)"
   ]
  },
  {
   "cell_type": "code",
   "execution_count": 8,
   "metadata": {},
   "outputs": [],
   "source": [
    "#update categoryical variables to \"dummy\" variables\n",
    "cat_vars=['ColumnKey']\n",
    "for var in cat_vars:\n",
    "    cat_list='var'+'_'+var\n",
    "    cat_list = pd.get_dummies(df[var], prefix=var)\n",
    "    df=df.join(cat_list)\n",
    "\n",
    "#remove columns from dataframe that have been converted to dummies\n",
    "data_vars=df.columns.values.tolist()\n",
    "to_keep=[i for i in data_vars if i not in cat_vars]\n",
    "df = df[to_keep]"
   ]
  },
  {
   "cell_type": "code",
   "execution_count": 9,
   "metadata": {},
   "outputs": [],
   "source": [
    "g = df.groupby(['ReportServerType','Server','FilePath'])\n",
    "dfGrouped = g.sum()\n",
    "\n",
    "clmns = list(dfGrouped)"
   ]
  },
  {
   "cell_type": "code",
   "execution_count": 10,
   "metadata": {},
   "outputs": [
    {
     "name": "stderr",
     "output_type": "stream",
     "text": [
      "C:\\ProgramData\\Anaconda3\\lib\\site-packages\\sklearn\\cluster\\k_means_.py:971: ConvergenceWarning: Number of distinct clusters (278) found smaller than n_clusters (288). Possibly due to duplicate points in X.\n",
      "  return_n_iter=True)\n"
     ]
    }
   ],
   "source": [
    "#Cluster the data\n",
    "k = int(round(len(dfGrouped)*0.75)) # Use 75% of total PBI files as optimal k\n",
    "kmeans = KMeans(n_clusters=k, random_state=0).fit(dfGrouped)\n",
    "labels = kmeans.labels_\n",
    "\n",
    "#Glue back to original data\n",
    "dfGrouped['clusters'] = labels\n",
    "\n",
    "#Add the column into our list\n",
    "clmns.extend(['clusters'])\n",
    "\n",
    "# drop indexes so dataframe will insert properly into SQL Server table\n",
    "dfGrouped = dfGrouped[['clusters']].reset_index()"
   ]
  },
  {
   "cell_type": "code",
   "execution_count": 11,
   "metadata": {},
   "outputs": [],
   "source": [
    "# Load cluster data into SQL Server table\n",
    "\n",
    "LoadDT = datetime.today().strftime('%Y-%m-%d')\n",
    "\n",
    "sql_conn = pyodbc.connect('DRIVER={SQL Server};\\\n",
    "                            SERVER=sql2377-fm1-in.amr.corp.intel.com,3180;\\\n",
    "                            DATABASE=SCDA;\\\n",
    "                            Trusted_Connection=yes;\\\n",
    "                            integrated security=true')\n",
    "\n",
    "cursor = sql_conn.cursor()\n",
    "cursor.execute('TRUNCATE TABLE [SCDA].[Audit].[ColumnClusters]')\n",
    "\n",
    "for index,row in dfGrouped.iterrows():\n",
    "    cursor.execute('INSERT INTO [SCDA].[Audit].[ColumnClusters]([ReportServerType],[Server],[FilePath],[clusters]) VALUES (?,?,?,?)', row[0],row[1],row[2],row[3])\n",
    "    sql_conn.commit()\n",
    "    \n",
    "sql = \"UPDATE [SCDA].[Audit].[ColumnClusters] SET [LastUpdate] = ?\"\n",
    "params = (LoadDT)\n",
    "\n",
    "cursor.execute(sql,params)\n",
    "sql_conn.commit()\n",
    "sql_conn.close()"
   ]
  },
  {
   "cell_type": "code",
   "execution_count": null,
   "metadata": {},
   "outputs": [],
   "source": []
  }
 ],
 "metadata": {
  "kernelspec": {
   "display_name": "Python 3",
   "language": "python",
   "name": "python3"
  },
  "language_info": {
   "codemirror_mode": {
    "name": "ipython",
    "version": 3
   },
   "file_extension": ".py",
   "mimetype": "text/x-python",
   "name": "python",
   "nbconvert_exporter": "python",
   "pygments_lexer": "ipython3",
   "version": "3.7.5"
  }
 },
 "nbformat": 4,
 "nbformat_minor": 4
}
